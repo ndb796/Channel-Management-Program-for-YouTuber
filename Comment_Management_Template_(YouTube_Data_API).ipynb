{
  "nbformat": 4,
  "nbformat_minor": 0,
  "metadata": {
    "colab": {
      "name": "Comment Management Template (YouTube Data API)",
      "provenance": [],
      "collapsed_sections": [],
      "authorship_tag": "ABX9TyMdoDtmLnLMcKbl6T3aH1iF",
      "include_colab_link": true
    },
    "kernelspec": {
      "name": "python3",
      "display_name": "Python 3"
    }
  },
  "cells": [
    {
      "cell_type": "markdown",
      "metadata": {
        "id": "view-in-github",
        "colab_type": "text"
      },
      "source": [
        "<a href=\"https://colab.research.google.com/github/ndb796/Management-Programs-for-YouTuber/blob/main/Comment_Management_Template_(YouTube_Data_API).ipynb\" target=\"_parent\"><img src=\"https://colab.research.google.com/assets/colab-badge.svg\" alt=\"Open In Colab\"/></a>"
      ]
    },
    {
      "cell_type": "markdown",
      "metadata": {
        "id": "XTqeaNPb03iz"
      },
      "source": [
        "#### <b>필요한 라이브러리 불러오기</b>"
      ]
    },
    {
      "cell_type": "code",
      "metadata": {
        "id": "m5bB9_R204c0"
      },
      "source": [
        "from google.colab import files\r\n",
        "import google_auth_oauthlib.flow\r\n",
        "import googleapiclient.discovery"
      ],
      "execution_count": 1,
      "outputs": []
    },
    {
      "cell_type": "markdown",
      "metadata": {
        "id": "XnUwpn7KrTGD"
      },
      "source": [
        "#### <b>Client Secret 파일 불러오기</b>"
      ]
    },
    {
      "cell_type": "code",
      "metadata": {
        "colab": {
          "resources": {
            "http://localhost:8080/nbextensions/google.colab/files.js": {
              "data": "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",
              "ok": true,
              "headers": [
                [
                  "content-type",
                  "application/javascript"
                ]
              ],
              "status": 200,
              "status_text": ""
            }
          },
          "base_uri": "https://localhost:8080/",
          "height": 76
        },
        "id": "10kx_WzjrRRI",
        "outputId": "02f101b7-bfd4-49dd-945e-44cd9741d266"
      },
      "source": [
        "uploaded = files.upload()"
      ],
      "execution_count": 2,
      "outputs": [
        {
          "output_type": "display_data",
          "data": {
            "text/html": [
              "\n",
              "     <input type=\"file\" id=\"files-ca38a04c-914a-416f-80d9-8beb5e91e77b\" name=\"files[]\" multiple disabled\n",
              "        style=\"border:none\" />\n",
              "     <output id=\"result-ca38a04c-914a-416f-80d9-8beb5e91e77b\">\n",
              "      Upload widget is only available when the cell has been executed in the\n",
              "      current browser session. Please rerun this cell to enable.\n",
              "      </output>\n",
              "      <script src=\"/nbextensions/google.colab/files.js\"></script> "
            ],
            "text/plain": [
              "<IPython.core.display.HTML object>"
            ]
          },
          "metadata": {
            "tags": []
          }
        },
        {
          "output_type": "stream",
          "text": [
            "Saving client_secret.json to client_secret.json\n"
          ],
          "name": "stdout"
        }
      ]
    },
    {
      "cell_type": "markdown",
      "metadata": {
        "id": "Iye8aa1d1Ccu"
      },
      "source": [
        "#### <b>API를 사용하기 위해 구글 계정으로 인증하기</b>"
      ]
    },
    {
      "cell_type": "code",
      "metadata": {
        "id": "DwJWAX-U3K7f"
      },
      "source": [
        "API_SERVICE_NAME = 'youtube'\r\n",
        "API_VERSION = 'v3'\r\n",
        "CLIENT_SECRET_FILE = 'client_secret.json'\r\n",
        "\r\n",
        "# [ 사용할 권한 명시 ]\r\n",
        "# 1. 유튜브 계정 보기(youtube.readonly)\r\n",
        "# 2. 유튜브 동영상, 평가, 댓글, 자막 보기, 수정 및 완전 삭제(youtube.force-ssl)\r\n",
        "SCOPES = ['https://www.googleapis.com/auth/youtube.readonly', 'https://www.googleapis.com/auth/youtube.force-ssl']\r\n",
        "\r\n",
        "# API 클라이언트 생성 및 인증하여 Credential 객체 얻기\r\n",
        "flow = google_auth_oauthlib.flow.InstalledAppFlow.from_client_secrets_file(CLIENT_SECRET_FILE, SCOPES)\r\n",
        "credentials = flow.run_console()\r\n",
        "youtube = googleapiclient.discovery.build(API_SERVICE_NAME, API_VERSION, credentials=credentials)"
      ],
      "execution_count": null,
      "outputs": []
    },
    {
      "cell_type": "markdown",
      "metadata": {
        "id": "mroFwMwV1IbC"
      },
      "source": [
        "#### <b>해당 사용자의 채널 정보 불러오기</b>"
      ]
    },
    {
      "cell_type": "code",
      "metadata": {
        "colab": {
          "base_uri": "https://localhost:8080/"
        },
        "id": "HpIzHFQQtC3A",
        "outputId": "a447a89c-f868-436a-b08a-5e716df39aba"
      },
      "source": [
        "# 인증된 사용자 채널의 기본 정보 가져오기\r\n",
        "channels_response = youtube.channels().list(\r\n",
        "    mine=True,\r\n",
        "    part='contentDetails'\r\n",
        ").execute()\r\n",
        "\r\n",
        "channel = channels_response['items'][0] # 첫 번째 채널 선택\r\n",
        "uploads_playlist_id = channel['contentDetails']['relatedPlaylists']['uploads'] # 업로드 영상 플레이 리스트 ID 추출\r\n",
        "\r\n",
        "print('업로드한 영상의 Playlist ID:', uploads_playlist_id)"
      ],
      "execution_count": 14,
      "outputs": [
        {
          "output_type": "stream",
          "text": [
            "업로드한 영상의 Playlist ID: UUhflhu32f5EUHlY7_SetNWw\n"
          ],
          "name": "stdout"
        }
      ]
    },
    {
      "cell_type": "markdown",
      "metadata": {
        "id": "wct7RAoc1XCP"
      },
      "source": [
        "#### <b>해당 사용자의 동영상 ID 불러오기</b>"
      ]
    },
    {
      "cell_type": "code",
      "metadata": {
        "colab": {
          "base_uri": "https://localhost:8080/"
        },
        "id": "KtcQmTWvr2jr",
        "outputId": "7bbd72c0-4d61-46fd-cd5e-9d0569d953ac"
      },
      "source": [
        "# 인증된 사용자 채널의 모든 비디오 정보 가져오기\r\n",
        "playlistitems_list_request = youtube.playlistItems().list(\r\n",
        "    playlistId=uploads_playlist_id,\r\n",
        "    part='snippet',\r\n",
        "    maxResults=50\r\n",
        ")\r\n",
        "\r\n",
        "cnt = 0\r\n",
        "last = 20 # 최근 몇 개까지의 동영상을 확인할지 설정\r\n",
        "video_list = []\r\n",
        "\r\n",
        "# 해당 플레이 리스트의 모든 동영상을 하나씩 확인하며\r\n",
        "while playlistitems_list_request:\r\n",
        "    playlistitems_list_response = playlistitems_list_request.execute()\r\n",
        "\r\n",
        "    # 각 비디오(video)에 대한 정보 출력\r\n",
        "    for playlist_item in playlistitems_list_response['items']:\r\n",
        "        video_id = playlist_item['snippet']['resourceId']['videoId']\r\n",
        "        title = playlist_item['snippet']['title']\r\n",
        "        video_list.append((video_id, title))\r\n",
        "        cnt += 1\r\n",
        "        if cnt >= last:\r\n",
        "            break\r\n",
        "\r\n",
        "    if cnt >= last:\r\n",
        "        break\r\n",
        "    playlistitems_list_request = youtube.playlistItems().list_next(playlistitems_list_request, playlistitems_list_response)\r\n",
        "\r\n",
        "print(f'{cnt}개의 동영상 정보를 불러왔습니다.')"
      ],
      "execution_count": 15,
      "outputs": [
        {
          "output_type": "stream",
          "text": [
            "20개의 동영상 정보를 불러왔습니다.\n"
          ],
          "name": "stdout"
        }
      ]
    },
    {
      "cell_type": "code",
      "metadata": {
        "colab": {
          "base_uri": "https://localhost:8080/"
        },
        "id": "StqBmiNiwDHa",
        "outputId": "5670154f-b9f3-4bf2-b409-15b0c25aa6d5"
      },
      "source": [
        "for (video_id, title) in video_list:\r\n",
        "    print(f'Video ID: {video_id} / 제목: {title}')"
      ],
      "execution_count": 16,
      "outputs": [
        {
          "output_type": "stream",
          "text": [
            "Video ID: va3e2c4uKJk / 제목: CNN을 활용한 스타일 전송(Style Transfer) | 꼼꼼한 딥러닝 논문 리뷰와 코드 실습\n",
            "Video ID: OM-6zYYRYfg / 제목: Arbitrary Style Transfer in Real-time with Adaptive Instance Normalization (꼼꼼한 딥러닝 논문 리뷰와 코드 실습)\n",
            "Video ID: HXgfw3Z5zRo / 제목: StyleGAN: 고해상도 가상 얼굴 이미지 생성 기술 (꼼꼼한 딥러닝 논문 리뷰와 코드 실습)\n",
            "Video ID: KqqlQKKitLM / 제목: [같이 불꽃 코딩해요] 7시간 논스톱 코딩 타임랩스 (7 Hours Non-stop Coding Time-lapse)\n",
            "Video ID: 58fuWVu5DVU / 제목: 배치 정규화(Batch Normalization) [꼼꼼한 딥러닝 논문 리뷰와 코드 실습]\n",
            "Video ID: 28XjFzn0ktA / 제목: [썰방송] 문과 내신 6등급(과천외고)이었는데 성적 맞춰 꼴찌로 들어간 컴퓨터 학과에서 5시간 자며 빡공해서 수석 졸업하고 스펙 괴물이 되어서 24살 때 연수익 1억을 만들었던 썰\n",
            "Video ID: AVvlDmhHgC4 / 제목: GAN: Generative Adversarial Networks (꼼꼼한 딥러닝 논문 리뷰와 코드 실습)\n",
            "Video ID: AA621UofTUA / 제목: [딥러닝 기계 번역] Transformer: Attention Is All You Need (꼼꼼한 딥러닝 논문 리뷰와 코드 실습)\n",
            "Video ID: EF-IYFTKZiE / 제목: [텍스트 분류 모델 공격 기법] TextFooler: Is BERT Really Robust?\n",
            "Video ID: 4DzKM0vgG1Y / 제목: [딥러닝 기계 번역] Seq2Seq: Sequence to Sequence Learning with Neural Networks (꼼꼼한 딥러닝 논문 리뷰와 코드 실습)\n",
            "Video ID: i5yHkP1jQmo / 제목: 코딩 테스트를 위한 트리(Tree) 자료구조 10분 핵심 요약\n",
            "Video ID: Ppimbaxm8d8 / 제목: 코딩 테스트를 위한 벨만 포드 알고리즘 7분 핵심 요약\n",
            "Video ID: fg2iGP4e2mc / 제목: 자료구조: 바이너리 인덱스 트리(Binary Indexed Tree, BIT, 펜윅 트리) 10분 정복\n",
            "Video ID: O895NbxirM8 / 제목: 최소 공통 조상(Lowest Common Ancestor, LCA) 알고리즘 10분 정복\n",
            "Video ID: AjFlp951nz0 / 제목: 자료구조: 우선순위 큐(Priority Queue)와 힙(Heap) 10분 핵심 요약\n",
            "Video ID: 671BsKl8d0E / 제목: ResNet: Deep Residual Learning for Image Recognition (꼼꼼한 딥러닝 논문 리뷰와 코드 실습)\n",
            "Video ID: FPcdxHCxH_o / 제목: 컴퓨터 공학과를 위한 최신 논문 찾아 읽는 방법 정리 (입문자를 위한)\n",
            "Video ID: -r9M4Cj9o_8 / 제목: StarGAN (꼼꼼한 딥러닝 논문 리뷰와 코드 실습)\n",
            "Video ID: d8KPN79UAKA / 제목: (이코테 2021 강의 몰아보기) 10. 개발형 코딩 테스트\n",
            "Video ID: cswJ1h-How0 / 제목: (이코테 2021 강의 몰아보기) 9. 코딩 테스트에서 자주 출제되는 기타 알고리즘\n"
          ],
          "name": "stdout"
        }
      ]
    },
    {
      "cell_type": "markdown",
      "metadata": {
        "id": "isn2aob81bEX"
      },
      "source": [
        "#### <b>댓글 스레드(Comment Thread) 불러오기</b>"
      ]
    },
    {
      "cell_type": "code",
      "metadata": {
        "id": "Qg1vzNHjwfWG"
      },
      "source": [
        "# commentThreads.list() API를 호출하여 특정 비디오의 댓글 스레드(thread)를 불러오기\r\n",
        "def get_comment_threads(youtube, video_id):\r\n",
        "    results = youtube.commentThreads().list(\r\n",
        "        part='snippet',\r\n",
        "        videoId=video_id,\r\n",
        "        textFormat='plainText',\r\n",
        "        maxResults=100, # 최근 100개까지의 댓글 확인\r\n",
        "    ).execute()\r\n",
        "\r\n",
        "    comment_list = []\r\n",
        "    for item in results['items']:\r\n",
        "        comment_id = item['id']\r\n",
        "        comment = item['snippet']['topLevelComment']\r\n",
        "        author = comment['snippet']['authorDisplayName']\r\n",
        "        publishedAt = comment['snippet']['publishedAt']\r\n",
        "        text = comment['snippet']['textDisplay']\r\n",
        "        comment_list.append((comment_id, author, publishedAt, text))\r\n",
        "\r\n",
        "    return comment_list"
      ],
      "execution_count": 17,
      "outputs": []
    },
    {
      "cell_type": "code",
      "metadata": {
        "colab": {
          "base_uri": "https://localhost:8080/"
        },
        "id": "YXjX_b0Rwg-8",
        "outputId": "c343672b-56fb-4067-fc55-8c2c83f9ea2b"
      },
      "source": [
        "video_id = 'ukkLCl9yBvE' # 비디오 ID\r\n",
        "comment_list = get_comment_threads(youtube, video_id)\r\n",
        "\r\n",
        "for (comment_id, author, publishedAt, text) in comment_list:\r\n",
        "    print(f'[ Comment ID: {comment_id} / 작성자: {author} / 작성 날짜: {publishedAt} ]')\r\n",
        "    print(text)"
      ],
      "execution_count": 18,
      "outputs": [
        {
          "output_type": "stream",
          "text": [
            "[ Comment ID: Ugzs9DEv501r_8nG8RZ4AaABAg / 작성자: 연습 / 작성 날짜: 2021-02-05T13:56:36Z ]\n",
            "마지막에 심멎할뻔 했네요.....(저 남잔데)\n",
            "[ Comment ID: Ugxg-fepvSLBiMe3Ob14AaABAg / 작성자: 김정윤 / 작성 날짜: 2021-02-05T12:49:44Z ]\n",
            "잘 봤습니다.\n",
            "[ Comment ID: UgyGJJa5uwNSJVR3zb54AaABAg / 작성자: Kevin Lim / 작성 날짜: 2021-02-05T11:27:05Z ]\n",
            "제 월급을 바칠테니 코딩 좀 알려주실래요?\n",
            "[ Comment ID: UgxGkWrhviQuAPF1UMR4AaABAg / 작성자: 호망두 / 작성 날짜: 2021-02-05T11:16:17Z ]\n",
            "나이가 많아도 괜찮을 까요?\n",
            "[ Comment ID: UgxtC3cWigqAQZGrmDx4AaABAg / 작성자: K도로도롱 / 작성 날짜: 2021-02-04T22:44:56Z ]\n",
            "너무너무너무 원했던 자료입니다 감사합니다\n",
            "[ Comment ID: UgxtSS_QsLLUtgmG1-J4AaABAg / 작성자: JuNo kim / 작성 날짜: 2021-01-31T13:16:40Z ]\n",
            "기본 알고리즘 공부를 하고 그리디,완전탐색을 푸시라는게 기본적으로 정렬,DFS/BFS,재귀,백트래킹 이런거는 일단 뭔지는 알고 그다음에 그리디랑 완전탐색으로 알고리즘으로 넘어가라는 말씀이시죠? 그냥 건들지도 말고 바로 그리디랑 완전탐색 풀라는거 아니죠?(기초100제 풀고 그냥 바로 그리디로 갔더니 정렬이랑 이런게 많이 나와서 ㄷㄷ)\n",
            "[ Comment ID: UgzC4O64SBp1UMD9us14AaABAg / 작성자: laskz a / 작성 날짜: 2021-01-31T08:18:00Z ]\n",
            "코딩테스트  시험볼때 문제마다 유동적으로 c++,  python 이렇게 풀수있나요?\n",
            "예를들면 1번은 c++ , 2번은 python\n",
            "[ Comment ID: UgxG4fgLVdX1uRe4y1B4AaABAg / 작성자: Taltube GD / 작성 날짜: 2021-01-26T17:40:53Z ]\n",
            "선생님 안녕하세요 코딩테스트 공부중인데 sql group by 하고 join하는 부분을 잘 못하겟어요.. sql은 어디서 준비해야할까요??? 프로그래머스에 sql문제 다 풀긴했는데 부족한거 같아요..\n",
            "[ Comment ID: UgyTAtS9LRLzjCb_met4AaABAg / 작성자: 88브베88 / 작성 날짜: 2021-01-26T17:33:59Z ]\n",
            "정말 감사합니다 동기부여가 되네요! 강의들 무료로 풀어주심에 정말 감사드립니다.\n",
            "[ Comment ID: Ugw5WIsVtlKvFCBYB654AaABAg / 작성자: S Dee / 작성 날짜: 2021-01-25T00:38:21Z ]\n",
            "초짜가 6개월만에 대기업 입사 가능할..까..요?\n",
            "[ Comment ID: UgzkTk37qzptF9SNTXV4AaABAg / 작성자: Aaron Kim / 작성 날짜: 2021-01-24T05:47:52Z ]\n",
            "감사합니다\n",
            "[ Comment ID: Ugw5-vRl2Lgi0537gah4AaABAg / 작성자: 솬씨 / 작성 날짜: 2021-01-22T05:04:43Z ]\n",
            "이영상 한 줄 요약 7:05\n",
            "[ Comment ID: UgyU3PDkFNqXoyVeC7t4AaABAg / 작성자: 최상현 / 작성 날짜: 2021-01-20T05:21:14Z ]\n",
            "자바스크립트는 안해도 되나요?\n",
            "[ Comment ID: UgynnT5_CSQhvSKuXk54AaABAg / 작성자: B B / 작성 날짜: 2021-01-19T04:51:26Z ]\n",
            "어려운 알고리즘만 공부할라고 한다그래서 뼈맞음.. ㄹㅇ 2000원 비싸짐...\n",
            "[ Comment ID: UgxND_IdjWIHrfDLYfx4AaABAg / 작성자: 에베베벱메롱메롱 / 작성 날짜: 2021-01-16T01:19:51Z ]\n",
            "제 알고리즘 강의라고 하셨는데 구체적으로 무엇을 들어야 하나요?\n",
            "[ Comment ID: UgxM_ChnNzA7UoAWzkN4AaABAg / 작성자: 이유빈 / 작성 날짜: 2021-01-15T01:54:29Z ]\n",
            "ㅇㄷ\n",
            "[ Comment ID: UgzzegFUNhSqvmlAdgB4AaABAg / 작성자: 나만고양이 없어 / 작성 날짜: 2021-01-12T23:47:41Z ]\n",
            "지금 임용 2차 실기 9일정도 남았는데 혹시 동적 프로그램이 어떤건가요...? 동적 계획법등을 의미하나요...? 진짜 제 앞길동앗줄 같은 영상이네요...!\n",
            "[ Comment ID: UgwmYrf7PGa8In6ImiV4AaABAg / 작성자: tori GG / 작성 날짜: 2021-01-12T15:46:59Z ]\n",
            "비전공자 노베이스 기준 말씀하신 1. 한가지언어로 2. 기초 100제 3. 그리디,탐색,기초 동적프로그래밍 50개씩 4. 기출문제 푸는데까지 어느정도 공부양과 기간을 잡아야할까요??? (물론 뛰어난 분들도 계시겠지만 일반적인 기준에서 궁금합니다!)\n",
            "[ Comment ID: UgzJEFQRL6xt5KMUPax4AaABAg / 작성자: iDiOt / 작성 날짜: 2021-01-12T05:38:17Z ]\n",
            "정올도 그렇게 준비해도 될까요?\n",
            "[ Comment ID: UgwUf882-4PeBNUhR2l4AaABAg / 작성자: John Paul / 작성 날짜: 2021-01-11T10:30:56Z ]\n",
            "고맙습니다... 어려운 상황이지만, 하나하나 해 보겠습니다.\n",
            "[ Comment ID: UgyzLn_XRJNetaoNyiR4AaABAg / 작성자: 하하하하하 / 작성 날짜: 2021-01-02T14:33:01Z ]\n",
            "DP, 탐색까지도 어려운데..ㅠㅠ\n",
            "[ Comment ID: UgwfAxh80ZqgLg0ETPp4AaABAg / 작성자: 이한규 / 작성 날짜: 2021-01-02T10:15:54Z ]\n",
            "코드업은 c언어만 제공되나요?\n",
            "[ Comment ID: UgwH-KgAtzrcRZgTs7N4AaABAg / 작성자: dsfsdfd wefdsfv / 작성 날짜: 2021-01-01T08:48:03Z ]\n",
            "알고리즘 관련해서 도서들 찾아보고 왔는데\n",
            "기초100제 문제부터 풀어보면 되는구나\n",
            "감사해요ㅎㅎ\n",
            "[ Comment ID: UgwMZSzuLLuKmxj8Ecx4AaABAg / 작성자: humbledore_ / 작성 날짜: 2020-12-31T15:58:09Z ]\n",
            "삼성에서 하는 SW Expert Academy는 어떤가요? UI 가 굉장히 깔끔해서 개인적으로 좋아서요 ㅠㅠ\n",
            "[ Comment ID: UgylHqPBaGkkQHSXRsp4AaABAg / 작성자: 녹차빙수우웅 / 작성 날짜: 2020-12-28T15:10:11Z ]\n",
            "영상 올려줘서 고마워용...!!\n",
            "[ Comment ID: UgwSCGO8MT6CKvxSBO54AaABAg / 작성자: #NotmyBattlefield / 작성 날짜: 2020-12-27T14:34:37Z ]\n",
            "7:03 너무 솔직한거 아니냐 ㅋㅋㅋㅋ\n",
            "[ Comment ID: UgzCcwzHGp4gKP3h4wR4AaABAg / 작성자: 와우 / 작성 날짜: 2020-12-20T15:58:54Z ]\n",
            "4년제 졸업증이 없어도 괜찮나요?? 관련 학과가 아니라 편입해야 하나요?.\n",
            "[ Comment ID: UgwSRl34TAiLSzSxcoJ4AaABAg / 작성자: synchronizing synchronize / 작성 날짜: 2020-12-19T07:18:00Z ]\n",
            "whgdmswjdqh\n",
            "[ Comment ID: Ugz6A_KpNs6k8om_nYh4AaABAg / 작성자: pizza / 작성 날짜: 2020-12-18T06:13:50Z ]\n",
            "형 전산전공인데 수학잘배워두면 도움많이될까요\n",
            "[ Comment ID: UgyZZu5Sl-JlTJWagIZ4AaABAg / 작성자: 뚜떱 sooyeon_surf / 작성 날짜: 2020-12-16T06:38:06Z ]\n",
            "왜자꾸장소가이동되는거에여 ㅋㅋㅋㅋㅋ영상항상감사히보고있습니다~\n",
            "[ Comment ID: Ugy9n2FlFlo1T_ztdgN4AaABAg / 작성자: RainDrop / 작성 날짜: 2020-12-10T09:11:17Z ]\n",
            "구독하고 동빈님 강좌 열심히 보고 코딩테스트 준비해보겠습니다 감사합니다!\n",
            "[ Comment ID: UgxVyT2CL6F1saqJWQp4AaABAg / 작성자: Code Kim / 작성 날짜: 2020-12-06T02:24:25Z ]\n",
            "저도 문과 출신인데, 영업직 했을 때보다 IT직군 일할 때가 더 객관적이고 실력으로 많이 뽑는다는 느낌 받았어요\n",
            "서비스 직군 일할 때는 면접볼 때도 그렇고, 취업이나 승진의 면에서 누락된 이유를 납득을 못했는데\n",
            "IT 직군 오면서 내가 왜 떨어졌는지, 왜 누락되었는지 알겠더라구요 \n",
            "이 직군만큼은 다른 직군보다는 객관적으로 사람을 등용하는 거 같습니다.\n",
            "학벌, 인맥 위주가 아니라는 동빈님 말 공감합니다 :-)\n",
            "[ Comment ID: UgwCavZ0PllnBkAlnO94AaABAg / 작성자: 췰릔투더지한 / 작성 날짜: 2020-12-02T09:03:15Z ]\n",
            "아닠ㅋㅋㅋㅋㅋㅋㅋㅋㅋㅋ너무 좋은 내용이라 감사한데 왜 이렇게 화나신거죠?ㅋㅋㅋㅋㅋㅋ\n",
            "[ Comment ID: UgzMmYc0NUMwlrYj4PN4AaABAg / 작성자: 이새벽Leedawn / 작성 날짜: 2020-11-30T14:53:02Z ]\n",
            "1. 프로그래밍 기본 문법 공부(파이썬)\n",
            "2. 알고리즘 기본100제(코드업:기초100제)\n",
            "3. 백준 문제풀기(그리디, 탐색, 기초 동적프로그래밍 50문제씩)\n",
            "4. 기출문제 풀기(프로그래머스:카카오)\n",
            "코드포스 블루레벨 정도면 코딩테스트 합격 가능(또는 삼성 역량 테스트 B형)\n",
            "추천 언어 : C++,파이썬\n",
            "[ Comment ID: Ugx-WwEb7aimF_67pSJ4AaABAg / 작성자: 김동민 / 작성 날짜: 2020-11-29T07:19:50Z ]\n",
            "내일 코테 보는데 겁나 걱정됩니다 ㅠㅠ 잘하고 오길 빌어주세여 후...\n",
            "[ Comment ID: UgyA6wUIvwNqzLAOXJd4AaABAg / 작성자: 김민우 / 작성 날짜: 2020-11-25T18:10:26Z ]\n",
            "굿\n",
            "[ Comment ID: UgzCf0zWI5KMQYIF_jZ4AaABAg / 작성자: Broke 5ko / 작성 날짜: 2020-11-23T19:57:00Z ]\n",
            "요새 유튜브댓글만보면 사과Tv랑 로즈Tv 하앜하앜 거리던데 ㄹㅇ좋음?\n",
            "[ Comment ID: Ugzk1Ct6DqtrHjxHl5N4AaABAg / 작성자: Sf Monali / 작성 날짜: 2020-11-23T19:57:00Z ]\n",
            "그래서 사과티비랑 로즈티비가 대체 뭔데 ^^ㅣ발 것들아\n",
            "[ Comment ID: UgyEeP3bVrIH6smvlsl4AaABAg / 작성자: Nazrul faiz / 작성 날짜: 2020-11-23T19:57:00Z ]\n",
            "사과Tv랑 로즈Tv 둘다 개오지던데 ㅋㅋㅋㅋ 너네봤냐?\n",
            "[ Comment ID: UgyWkoyem6fWSBtk_xh4AaABAg / 작성자: all movies / 작성 날짜: 2020-11-23T19:57:00Z ]\n",
            "ㅅr고rㅌIㅂI랑 로즈ㅌIㅂI는 진짜 쌉인정이지 그중에서도 bj고양이가 지리더라 ㅋㅋㅋㅋ\n",
            "[ Comment ID: UgwgJ-xU8VPQEZWsPNh4AaABAg / 작성자: Sumit Sharma / 작성 날짜: 2020-11-23T19:56:59Z ]\n",
            "bj고양이년 1년만 기다려라 ㅅr고rㅌIㅂI랑 로즈ㅌIㅂI .. 진짜 20살되면 혼내준다 미성년자라서 못보는게 너무아쉽다 ... 하 !!\n",
            "[ Comment ID: UgzyErFErMrwW6wVu3l4AaABAg / 작성자: Takuli bhai / 작성 날짜: 2020-11-23T19:56:59Z ]\n",
            "플레이스토어에 ㅅr고rㅌIㅂI랑 로즈ㅌIㅂI치면되나? 아니면 그냥 구글에침 ?? 좀 알려주ㅏㅓ봐\n",
            "[ Comment ID: UgxRNCHM6snBVkC2PM54AaABAg / 작성자: : BlackllGarden : / 작성 날짜: 2020-11-23T19:56:58Z ]\n",
            "ㅋㅋㅋㅋㅋㅋㅋㅋㅅr고rㅌIㅂI랑 로즈ㅌIㅂI는 우리 싱글 삼촌들도 보고있드라\n",
            "[ Comment ID: UgwtNltmCbwNkgOMAq54AaABAg / 작성자: Arup sarkar / 작성 날짜: 2020-11-23T19:56:58Z ]\n",
            "하 맨날 ㅅr고rㅌIㅂI랑 로즈ㅌIㅂI 유튜브만 보다가 라이브는 첨봤는데 라이브가 더좋누\n",
            "[ Comment ID: Ugx9z5MpcW6IskdJxht4AaABAg / 작성자: gooog goog / 작성 날짜: 2020-11-19T05:03:15Z ]\n",
            "비전공자라도 코딩테스트 합격하면 취업할 수 있을까요?\n",
            "[ Comment ID: UgzOAuR0-_sgOC7VGz14AaABAg / 작성자: jIhye Choi / 작성 날짜: 2020-11-12T06:05:16Z ]\n",
            "목소리 좋아요 ㅎㅎ\n",
            "[ Comment ID: UgypJ4CF0zYohY-Tjmp4AaABAg / 작성자: 2은 / 작성 날짜: 2020-11-10T06:27:56Z ]\n",
            "알고리즘 강의가 굉장히 많이 올라와있는데 어떤걸 들으면 될까요...\n",
            "[ Comment ID: UgzJsYKHr623MClXXjx4AaABAg / 작성자: Gunwoo An / 작성 날짜: 2020-11-09T04:03:02Z ]\n",
            "자신이 먼치킨이라는 사실을 망각한채..\n",
            "[ Comment ID: UgwswhFrln228as3Wud4AaABAg / 작성자: 9 80 / 작성 날짜: 2020-11-08T12:43:44Z ]\n",
            "잘 봤습니다. 이제 영상 내려주세요\n",
            "[ Comment ID: UgzYf9y3QSVrqR6VqNx4AaABAg / 작성자: 아무도모르는인간. / 작성 날짜: 2020-10-05T14:21:27Z ]\n",
            "카카오 네이버등등 대기업 IT직군에 취업하고싶어서 열심히 공부하고있는 14살입니다. 동빈님 강의보고 공부하면서 열심히 배우고있습니다 ! 항상 좋은강의 올려주셔서 감사합니다~\n",
            "[ Comment ID: UgzZkfGDp1SuAH2ba9h4AaABAg / 작성자: 토익천재 / 작성 날짜: 2020-10-04T09:46:08Z ]\n",
            "이런 유익한 정보 영상 정말 감사합니다👍🏻\n",
            "[ Comment ID: UgyVuD-CGzaAJy5JhXt4AaABAg / 작성자: sihyung lee / 작성 날짜: 2020-09-23T16:11:00Z ]\n",
            "팩트 네이버는 대기업이 아니다\n",
            "[ Comment ID: UgwghKo_LiqdGbJI6O94AaABAg / 작성자: 이름없음 / 작성 날짜: 2020-09-22T15:30:23Z ]\n",
            "소마 센터에서 찍으신 것 같아요!\n",
            "[ Comment ID: Ugx2-sys03xOTUWBWsx4AaABAg / 작성자: 임승 / 작성 날짜: 2020-09-20T07:32:07Z ]\n",
            "\"근데 이왕이면 여러분들이 그 돈을 저한테 줬으면 좋겠어요\"\r\n",
            "\r\n",
            "정신 차리고 보니까 동빈님 코테 책에,, 동빈님 알고리즘 강의에,, 지금 내가 그러고 있네\r\n",
            "책 유튜브 강의도 2시간 분량 쉽지 않았을텐데 쉽게 만들어줘서 감사해요\r\n",
            "\r\n",
            "동빈님 포공 대학원 열심히 하고 있으시던데 앞으로도 어떤 결정을 하시던 응원합니다~\n",
            "[ Comment ID: UgwuG_1p9pVTcwvoACV4AaABAg / 작성자: Root / 작성 날짜: 2020-09-09T15:14:05Z ]\n",
            "코테 통과해도 기술면접이 기다리는.. 비전공자는 산넘어 산이네요\n",
            "[ Comment ID: UgzDK1_8fHiAmD6NMu14AaABAg / 작성자: 멀라이언 / 작성 날짜: 2020-08-30T15:07:15Z ]\n",
            "배우고싶은데 어떤 강좌 순으로 들어야하나요 저는 생노베이스입니다\n",
            "[ Comment ID: UgyTX0ZhX7Soovms-Cx4AaABAg / 작성자: 디오 / 작성 날짜: 2020-08-27T22:24:03Z ]\n",
            "아우 정신없어 ㅋㅋㅋㅋㅋ돌아다니면서 정신사납게 말하니까 어수선해보여 ㅋㅋㅋㅋㅋ\n",
            "[ Comment ID: UgxZxoKEsb_0iP0k86h4AaABAg / 작성자: 유튜브꽃잎 / 작성 날짜: 2020-08-25T19:48:01Z ]\n",
            "영상 간단 정리.\n",
            "\n",
            "1. 프로그래밍 언어 때기. (C# / 파이썬 / 자바 등)\n",
            "- 동빈나(본인)은 C++ / 파이썬을 추천. 파이썬으로 시작해도 불이익이 크지 않다. 미래를 위해 C++도 좋다.\n",
            "2. 코드업 기초 100제 공부.\n",
            "3. 백준 온라인 저지 알고리즘 공부.\n",
            "- 그리디 알고리즘\n",
            "- 탐색 알고리즘 (완전탐색 / BFS /DFS)\n",
            "- 기본 동적 프로그래밍\n",
            "- 그래프 이론\n",
            "- 중급 / 고급 동적 프로그래밍\n",
            "- 문자열\n",
            "4. 고급 알고리즘은 대기업 코테용으로 공부할 필요가 없다.\n",
            "5. 코드포스 블루 레벨 정도면 국내 코테에서 떨어질 일은 없다.\n",
            "- 그리디 / 동적 프로그래밍 / 탐색 정도면 블루 레벨 가능\n",
            "6. 삼성 역량 테스트 B형 정도면 국내 대기업 IT 직군에 취업할 수 있다.\n",
            "7. 연구직이나 대학원 진학을 꿈군다면 고급 알고리즘 공부는 필요하다.\n",
            "8. 대기업 공체는 문제 수와 관계 없이 절반 이상 맞추면 대기업에 합격하는 추세다. 완벽할 정도로 공부할 필요 없다.\n",
            "9. 공부 루트를 알면 굳이 학원을 다닐 필요가 없다.\n",
            "10. 삼성전자 역량 테스트는 백준 사이트에서 확인 가능. 카카오 테스트는 프로그래머스에서 확인 가능.\n",
            "11. 유튜브에서 동빈나(본인) 알고리즘 강의 절반을 듣고 백준 알고리즘 풀고 삼성 문제 풀면 충분하다.\n",
            "12. 모든 사람이 100% 합격할 것이라 확답은 못 하지만 충분하다고 말할 수 있다.\n",
            "13. 그리디 / 동적 프로그래밍 / 탐색 문제 50개씩 풀어보세요. 그후 문제집 계속 푸세요.\n",
            "14. 현재 삼성을 중심으로 여러 대기업에서 코딩 테스트로 직원을 뽑는 중이다.\n",
            "15. 대기업 공채 코딩 테스트에 합격하는 사람들은 천재가 아니다. 문과 출신도 가능하다. 수학을 물어보는 시험이 아니다.\n",
            "[ Comment ID: UgzV2Zs1SedJnpskvSF4AaABAg / 작성자: 성술사기 / 작성 날짜: 2020-08-24T10:46:48Z ]\n",
            "이분 아니 이 귀인 덕분에 ssafy 준비든 부스트캠프 준비든 기업공채준비에서든 알고리즘 공부 스타드를 좋은방향으로 할 수 있게 되었습니다. 감사합니다\n",
            "[ Comment ID: Ugw2Rx4JMWNlaHphxH54AaABAg / 작성자: Minjoo Jo / 작성 날짜: 2020-08-23T12:37:37Z ]\n",
            "1.코드업 기초 100제\n",
            "2.백준 온라인 저지 \n",
            ";그리디 알고리즘 부터 풀기\n",
            "3.탐색\n",
            "\n",
            "그리디 /탐색 /기본 동적 프로그램// 코드포스 블루 수준\n",
            "\n",
            "프로그래머스 사이트\n",
            "[ Comment ID: Ugzx2zuo1lwelOVZXaF4AaABAg / 작성자: G park / 작성 날짜: 2020-08-10T08:27:12Z ]\n",
            "Java보다는 C++을 준비하는 게 좋을까요?\n",
            "[ Comment ID: UgyaxEulVNp0mQ3v0kp4AaABAg / 작성자: 빵빵개 / 작성 날짜: 2020-08-10T03:05:31Z ]\n",
            "동빈님.. 저 분할정복을 못하겠어요.. dp는 하겠는데.. 기업용 코테 준비하는데 분할정복 버려도 될까요? 질문이 바보같긴한데 너무 답답해서요 ㅠ\n",
            "[ Comment ID: UgzOKicGtZOwVKoXelN4AaABAg / 작성자: 김주연 / 작성 날짜: 2020-08-06T07:48:58Z ]\n",
            "공부 순서\n",
            "코드업 기초100제\n",
            "(알고리즘 강의 반정도 듣고)백준 그리디 알고리즘 -> 탐색(완전탐색,BFS,DFS)->기본 동적 프로그래밍(50문제정도씩만)\n",
            "그래프 이론, 중급 및 고급 동적 프로그래밍, 문자열\n",
            "\n",
            "합격 기준\n",
            "코드포스 블루레벨 정도\n",
            "\n",
            "기출문제\n",
            "삼성전자 역량 테스트 -> 백준\n",
            "카카오 -> 프로그래머스\n",
            "[ Comment ID: UgyM6f2Z3o2K8lk3Fop4AaABAg / 작성자: 허새 / 작성 날짜: 2020-08-03T05:10:16Z ]\n",
            "빈나 형, '자료 구조'는 공부 어떻게 해야되요?? 추천해 줄 사이트 있으면 추천 좀 부탁할게요~!\n",
            "[ Comment ID: Ugz3ucTo11HkF_ZB0Kh4AaABAg / 작성자: kinaan Oh / 작성 날짜: 2020-08-02T16:16:29Z ]\n",
            "네이버 카카오에 있는 학교사람들 얘기들어보면 코딩테스트는 기본이고 기술면접에서 다 떨군다더라구요. 기술면접 난이도는 컴퓨터공학 필수적인 과목들에 대해서 굉장히 딥한 레벨까지 물어본답니다. 코딩테스트만 준비하고 컴퓨터공학공부 재대로 안하면 어차피 떨어집니다. 알고리즘만해서 대기업 취업? 얘기들어보면 불가능한데요.\n",
            "[ Comment ID: UgzBlehVZL8uNcAQ10V4AaABAg / 작성자: Drummer Outsider / 작성 날짜: 2020-08-02T12:27:42Z ]\n",
            "대기업 이직 준비 중인 SI개발자입니다. 이 영상을 보고 광명을 찾았습니다. 감사합니다. 공부 겁나 빡세게 해야겠네여\n",
            "[ Comment ID: UgxshPJkeAEcRDJ3g8Z4AaABAg / 작성자: 이시은 / 작성 날짜: 2020-07-28T18:08:51Z ]\n",
            "요즘 채용은 코딩테스트로 많이 결정지음\n",
            "문제해결능력뛰어남 > 취업\n",
            "알고리즘 역량 테스트 : 생각보다 어렵지 않아영\n",
            "1. 기본문법 떼라 : 내가원하는 언어\n",
            "2. 코드업 기초 100제\n",
            "3. 백준, 코드포스, 탑코더 : 백준 그리디 알고리즘 부터 풀기(가장 쉽고 간단)\n",
            "4. 탐색 BSS DSS?\n",
            "5. 그리디 탐색 종만 갖추면 코딩테스트 통과 : 기리디 탐색 동적 프로그래밍\n",
            "6. 코드포스 블루 : 대부분 코테에서 통과, 삼성 코테 역량테스트 B형취득\n",
            "7. 고급역량테스트까진 안해두됨\n",
            "8. 절반 맞추면 코테합격\n",
            "9. 삼성전자 기출(백준) 카카오 코딩테스트(프로그래머스) 다 풀어볼수있음\n",
            "10. 그리디 동적프로그래밍기초 탐색문제 기초 50개씩 다 풀어보세염\n",
            "11. 라인은 어딨는지 몰겟슴\n",
            "12. 코딩테스트 언어 추천 : c++, python\n",
            "13. 대회, 성능 측면 c++\n",
            "14. 기본 c++이용하고 계심\n",
            "15. 요즘 python추천\n",
            "16. 코드업 기초 100제 뱃준 그리디 탐색 동적프로그래밍 풀기\n",
            "[ Comment ID: UgzZPcD7UIynwwb3IQp4AaABAg / 작성자: Youngbin Kim / 작성 날짜: 2020-07-25T08:48:58Z ]\n",
            "기본문법공부\n",
            "\n",
            "코드업 기본100제\n",
            "백준온라인 \n",
            "코드포스(블루레벨)\n",
            "앱코더\n",
            "탑코더\n",
            "삼성역량테스트(B형)\n",
            "\n",
            "그리디 알고리즘 먼저 해결\n",
            "탐색(완전탐색, DFS, BFS)\n",
            "기본 동적 프로그램\n",
            "문자열\n",
            "[ Comment ID: UgwxlFhAVxuT1RFPH5p4AaABAg / 작성자: JungWon Song / 작성 날짜: 2020-07-19T07:19:33Z ]\n",
            "조금있다가 코딩 시험을 봐야하는데 도움 좀 주세요. 비용이 얼마인가요???\n",
            "[ Comment ID: Ugysp1FJd3OOqirWUGt4AaABAg / 작성자: 조대열 / 작성 날짜: 2020-07-16T02:00:05Z ]\n",
            "정말 도움이 많이 되었습니다!!! 감사합니다. 항상 행복하시길 바랍니다.\n",
            "[ Comment ID: Ugwq0Aihjuk-7XLY_5d4AaABAg / 작성자: Andrew Sohn / 작성 날짜: 2020-07-15T13:44:28Z ]\n",
            "목소리가 이선균이네요 ㅎㅎ\n",
            "[ Comment ID: Ugy5m9sBVMkl4XVQW1Z4AaABAg / 작성자: 박성호 / 작성 날짜: 2020-07-13T15:19:51Z ]\n",
            "동빈나 선생님, 선생님이 영상에서 말씀하신거 아직도 적용되나요? 이대로 하겠습니다. 언어는 자바스크립트 공부중이라... 그리고 요즘 자바스크립트도 많이 코테에서 쓸수있게해주는거같아서 자바스크립트로 준비할려고하는데 괜찮을까요...?\n",
            "[ Comment ID: UgxY6rk_V1F8jrRs49p4AaABAg / 작성자: 이백수 / 작성 날짜: 2020-07-04T16:06:44Z ]\n",
            "외식쪽에서 5년정도 종사하다가 코딩쪽에 입문하게되었습니다.현재 5월 27일부터 JAVA활용한 RPA빅데이터라는 국가에서 6개월 교육과정을 받고 있습니다.\r\n",
            "제가 이 길을 선택하기전 웹개발자, 고객센터, 상담직 등 여러 직업을 알아보고 현직자 찾아가보고 하면서 정말 싶지않은 고민으로 선택하게 되었습니다.\r\n",
            "그 계기가 된것이 차분함과 강한맨탈, 사회생활 능력입니다. 제가 너무 말이 길엇네요. ㅜㅜ 죄송합니다. 본론으로 들어가져면요.\r\n",
            "6개월 교육과정중 현재 3분의 1정도 왔습니다. 현재 시점에서 제가 할 수 있는 부분은...(자바 프로그래밍입문라는 책 참고)\r\n",
            "\r\n",
            "\r\n",
            "\r\n",
            "\r\n",
            "1. 이클립스 활용(전체는 아니지만, 70%)\r\n",
            "2. 로직이 한 100줄정도 되는 3개 클래스가 있는 프로젝가 있다면 거기에 나온 로직은 한 이해가 갑니다.\r\n",
            "(이 메소드가 어떤 역할을 하고 상속이 되고 오바라이딩 되고 등을 이해를 한다는 소리입니다. 그게 약 75%정도요.)\r\n",
            "3. 로직은 이해가 되고 구성되는지 알겠는데요. 막상하려니 멍~~해집니다.(이말이 무엇이냐!? 외국어 중에 영어가 있습니다. 영어단어와 문법을 배워놓고 막상 외국인을 만나면...어버버거리고 대화가\r\n",
            "안된다는 말입니다.)\r\n",
            "\r\n",
            "\r\n",
            "전 자신감과 열정 그리고 목표가 있습니다. 처음에 열정과 자신감이 없었다면, 로직이 왜!? 형성이 되고 상속, 오바로딩, 배열, 추상클래스, 생성자등 왜!? 필요한지 몰랐을겁니다.\r\n",
            "하지만 현재 고민인 것이 위의 영어(코딩을 하루에 8시간동안 듣고 20번 반복하고 집에와서 작성하면서 복습하면서)를 열심히하면서도 실제로는 대화가 안되는 형식입니다. ㅜㅜ\r\n",
            "선배님도 그러셨나요?\n",
            "[ Comment ID: UgzT2teF13wT2RXnwMJ4AaABAg / 작성자: ralalala cha / 작성 날짜: 2020-06-26T12:22:11Z ]\n",
            "헷갈렸는데 좋은정보 감사합니당 ㅠㅠ\n",
            "[ Comment ID: Ugx_cI-PvtA8gMwz9_t4AaABAg / 작성자: Drawpica / 작성 날짜: 2020-06-24T00:53:48Z ]\n",
            "ㅋㅋㅋㅋㅋㅋ넘 ㅋㅋㅋ웃겨요. 장난끼많아 보이시네요 ㅋㅌ\n",
            "[ Comment ID: UgzlQjkpp77rMygs3S94AaABAg / 작성자: 나무 / 작성 날짜: 2020-06-21T09:47:42Z ]\n",
            "목소리가 웰케 좋아요?\n",
            "[ Comment ID: Ugw93rNkCEQRHyACtmx4AaABAg / 작성자: 후잌 / 작성 날짜: 2020-06-15T05:01:59Z ]\n",
            "솔찍히 제가 돈주고 학원 다닌 입장에서, 이 의견은 동감합니다. 학원에서 배운건 공부하는 습관 패턴을 배우지 솔찍히 왔다갔다 왕복 3시간 거리의 학원 다니면서 내 사비로 돈내고 점심 사먹어야하고 학원 강의 질도 그렇게 좋은 것도 아니고 어떤 과목은 그냥 빠르면 유투브로 1주일만 보고 관련 예제 풀어보면 기초는 다 때는 정도를 배우는데, 진짜 좀 아니다는거죠...\n",
            "[ Comment ID: UgxZdWEGoVyHbdSjarN4AaABAg / 작성자: fan of hiphop / 작성 날짜: 2020-06-15T04:23:02Z ]\n",
            "중학교 동창 중에 과학고 갔다가 지금 서울대 물리학과랑 컴공과 더블 메이저 하는 친구가 있는데 그 친구가 추천해준 공부 방법이랑 정말 비슷하네요. 어제 카톡으로 조언 받고 오늘 이 영상 보게 됐는데 소름돋네요ㄷㄷ\n",
            "[ Comment ID: Ugxqp7c9d2Mci4FMz6x4AaABAg / 작성자: fan of hiphop / 작성 날짜: 2020-06-15T04:13:16Z ]\n",
            "실리콘 밸리 가는게 목표인데 말씀하신 내용이 똑같이 적용될까요?\n",
            "[ Comment ID: UgwqBTYppHieAUPVrv94AaABAg / 작성자: 123 Kim / 작성 날짜: 2020-06-11T14:13:01Z ]\n",
            "자바 알고리즘도 찍어주시면 안되나요ㅜㅜㅜ\n",
            "[ Comment ID: Ugz-5r7Qtjyqqxtnn1h4AaABAg / 작성자: ᄎᄎᄎ / 작성 날짜: 2020-06-10T18:33:33Z ]\n",
            "역시 정보처리기사를 취득해도 코딩테스트를 하기에는 넘어야 할 벽이 높군요 ㅎㅎ\n",
            "[ Comment ID: UgyXkfBQrImGG5k6dvJ4AaABAg / 작성자: 강태민 / 작성 날짜: 2020-05-29T07:46:26Z ]\n",
            "카메라멘 힘들었겠ㄷ..\n",
            "[ Comment ID: UgzJAB9es2W-tiZFQIR4AaABAg / 작성자: Jh K / 작성 날짜: 2020-05-22T17:39:36Z ]\n",
            "그리디 탐색문제 그래프 이론 중급 코드포스 블루정도 삼성역량테스트 b형\n",
            "[ Comment ID: UgwnaqkNLyZvJ0F1qrF4AaABAg / 작성자: dub / 작성 날짜: 2020-05-22T03:55:56Z ]\n",
            "거기 동굴인가요??\n",
            "[ Comment ID: UgyAzyNHvva3cTAheBF4AaABAg / 작성자: 긍정왕의 무한도전MOoDO / 작성 날짜: 2020-05-19T07:10:50Z ]\n",
            "이번주에 코딩테스트 있어요! 위에 말씀하신거 듣고 급하게 공부하고 있습니다. 38강 그리디 알고리즘, 16강 너비우선 알고리즘, 17강 깊이 우선 알고리즘, 블로그에 있는 40강 순차탐색 이분탐색, 21강 다이나믹 알고리즘 강의 듣고 준비하고 있는데, 더필요한 게있을까요?      문제는 코드업 100제 풀고 테스트보려구요!  더 필요한 거 있으면 알려주세요!\n",
            "[ Comment ID: UgyJPc-AuZObZ0GEEVh4AaABAg / 작성자: 강진구 / 작성 날짜: 2020-05-11T19:26:47Z ]\n",
            "대본이잇나요 ㅋㅋㅋ 말엄청 잘하십니다\n",
            "잘보고가용~\n",
            "[ Comment ID: UgwT6XnF1LTclxfIPcd4AaABAg / 작성자: 김태언 / 작성 날짜: 2020-05-11T15:22:01Z ]\n",
            "1:31 \"근데 내가 제일 잘하더라ㅋ\"\n",
            "[ Comment ID: UgyO6Bvj3CaWe9D0yZR4AaABAg / 작성자: Subin Lee / 작성 날짜: 2020-05-09T00:35:16Z ]\n",
            "혹시 가산점주는 자격증이나 포트폴리오에 쓸 프로젝트 추천해주신다면 뭐가 있을까요..?\n",
            "[ Comment ID: UgwLaP8JUvO5aoaDSWx4AaABAg / 작성자: 김연호 / 작성 날짜: 2020-05-05T03:02:31Z ]\n",
            "헉... 당장할게요\n",
            "[ Comment ID: UgwzfHRT_TP4xFenzx14AaABAg / 작성자: 이히히 / 작성 날짜: 2020-04-29T07:42:34Z ]\n",
            "그리디 탐색 동적프로그래밍\n",
            "[ Comment ID: UgyOplFeoGFa7BD15j14AaABAg / 작성자: 두건 / 작성 날짜: 2020-04-27T06:35:07Z ]\n",
            "13:32\n",
            "[ Comment ID: UgzZlw_zFS4vDOtF7HN4AaABAg / 작성자: 국현 / 작성 날짜: 2020-04-23T20:06:22Z ]\n",
            "이영호 닮으심\n",
            "[ Comment ID: UgwFTAztec_tuQnzmfl4AaABAg / 작성자: 냠냠 / 작성 날짜: 2020-04-23T12:44:20Z ]\n",
            "그리디\n",
            "완전탐색, BFS, DFS\n",
            "기본동적프로그래밍\n",
            "[ Comment ID: UgyWHoydo6JghgMnmqV4AaABAg / 작성자: Dodo / 작성 날짜: 2020-04-19T16:03:33Z ]\n",
            "여기서 말하는 탐색이 BOJ에 나오는 탐색 유형과 같나요? 제가 생각한 탐색은 이등분탐색, DFS, BFS 같은 건데 BOJ탐색은 그런 탐색이 아닌 거 같아요.\n",
            "[ Comment ID: Ugz7JMX93ZxWMCB1unB4AaABAg / 작성자: 진솔 / 작성 날짜: 2020-03-21T06:46:34Z ]\n",
            "멋지십니다 !! 꼭 대기업갈수있게 ㅎㅎ\n",
            "[ Comment ID: UgzbnfA0mYQCdztsnKJ4AaABAg / 작성자: Neo Takayashi / 작성 날짜: 2020-03-20T18:07:00Z ]\n",
            "넷웍 플로우나 세그먼트 트리같은 어려운 알고리즘까지 갈 필요없고 그냥 dp,그리디,문자열,수학,정렬 dfs bfs 이 정도만 제대로 이해하면서 공부해도 어지간한 기업들 코테 뚫을수있습니다..실제로 완전수 알고리즘 같은 간단한 문제 나온적도 봤어요(대기업) 문제는 알고리즘뿐만 아니라 전공지식+플젝경험도 중요하다는거...코딩(ps실력)은 기본기 전공지식이 부족하면 대기업은 거의 못간다고 생각하시면 돼요  그래서 컴퓨터공학전공자가 아니면 it직군 특히 대기업 sw개발은 진입장벽이 높죠...\n",
            "[ Comment ID: UgzHVxfnXohBrkmjbih4AaABAg / 작성자: 허준녕 / 작성 날짜: 2020-03-16T11:27:46Z ]\n",
            "고등학생이 코딩공부 처음할 때 뭐부터 시작하면 좋을까요?\n",
            "[ Comment ID: UgwZUhZNDAMGv4p8PD14AaABAg / 작성자: Seongwon Kim / 작성 날짜: 2020-03-15T09:25:35Z ]\n",
            "이번에 코딩테스트를 쭉 보면서 위상정렬이니 유니온파인드니 이런거까지 건드리는거보다 말씀하신 기초 알고리즘부터 빠르고 정확하게 훈련하는 것이 더 중요하다고 생각이 들었습니다. 특히 그리디는 막상 짜보면 소스도 간단하고 시뮬과 달리 힘도 안빠지는데 아이디어를 떠올리는게 쉽지 않죠. 실수하기도 좋구요. 그리디를 집중적으로 풀다보면 순간집중력, 반례 생각하는 능력이 확실히 오르는거 같습니다! 확실히 동빈나님도, 백준님도, 바킹독님도 코테 수준에선 기본만 제대로 해라는 공통적인 말씀이 있네요.\n",
            "[ Comment ID: UgzIo9EAndsXsSaAy2N4AaABAg / 작성자: Slack Time / 작성 날짜: 2020-03-12T09:06:58Z ]\n",
            "돈 드릴께요 ...ㅎㅎㅎ 도와주세요 ㅎㅎㅎㅎ\n",
            "[ Comment ID: UgxH5GKh8aS-XDRQO9N4AaABAg / 작성자: 안영훈 / 작성 날짜: 2020-03-11T10:52:32Z ]\n",
            "안녕하세여~ 영상 잘봤습니다 저는 현재 ios개발을 스타트업에서 맡고 있어서 swift가 익숙해서 코딩테스트 준비를 swift로 하고 있습니다. 혹시 코딩테스트를 swift로 준비해도 큰 문제가 없을까요?\n"
          ],
          "name": "stdout"
        }
      ]
    },
    {
      "cell_type": "markdown",
      "metadata": {
        "id": "5QglA_GK1mWX"
      },
      "source": [
        "#### <b>댓글 스레드 삭제 및 삭제된 스레드 복구 방법</b>"
      ]
    },
    {
      "cell_type": "code",
      "metadata": {
        "colab": {
          "base_uri": "https://localhost:8080/"
        },
        "id": "XKaifgtTy2i5",
        "outputId": "e73b842b-66a0-4247-f4d6-4686b2397e58"
      },
      "source": [
        "comment_ids = ['Ugzk1Ct6DqtrHjxHl5N4AaABAg', 'UgyEeP3bVrIH6smvlsl4AaABAg'] # 댓글 ID 설정\r\n",
        "banned = True # 댓글 작성자 차단 여부\r\n",
        "\r\n",
        "# 삭제 수행 (삭제 이후에는 더 이상 API 상에서도 해당 댓글이 보이지 않음)\r\n",
        "request = youtube.comments().setModerationStatus(\r\n",
        "    id=comment_ids,\r\n",
        "    moderationStatus='rejected',\r\n",
        "    banAuthor=banned\r\n",
        ")\r\n",
        "request.execute()\r\n",
        "\r\n",
        "print(f'{len(comment_ids)}개의 댓글을 삭제했습니다.')"
      ],
      "execution_count": 19,
      "outputs": [
        {
          "output_type": "stream",
          "text": [
            "2개의 댓글을 삭제했습니다.\n"
          ],
          "name": "stdout"
        }
      ]
    },
    {
      "cell_type": "code",
      "metadata": {
        "colab": {
          "base_uri": "https://localhost:8080/"
        },
        "id": "-ulXlUoUy-d7",
        "outputId": "fe3706bb-0df7-44f9-d52c-47db9586e3a6"
      },
      "source": [
        "comment_ids = ['Ugzk1Ct6DqtrHjxHl5N4AaABAg', 'UgyEeP3bVrIH6smvlsl4AaABAg'] # 댓글 ID 설정\r\n",
        "banned = False # 댓글 작성자 차단 여부\r\n",
        "\r\n",
        "# 다시 보이게 만들기 (댓글 ID를 기억하고 있는 경우에는 다시 보이게 만들 수 있음)\r\n",
        "request = youtube.comments().setModerationStatus(\r\n",
        "    id=comment_ids,\r\n",
        "    moderationStatus='published',\r\n",
        "    banAuthor=banned\r\n",
        ")\r\n",
        "request.execute()\r\n",
        "\r\n",
        "print(f'{len(comment_ids)}개의 댓글을 복구했습니다.')"
      ],
      "execution_count": 20,
      "outputs": [
        {
          "output_type": "stream",
          "text": [
            "2개의 댓글을 복구했습니다.\n"
          ],
          "name": "stdout"
        }
      ]
    }
  ]
}